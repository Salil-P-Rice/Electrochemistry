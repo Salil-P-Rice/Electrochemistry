{
  "nbformat": 4,
  "nbformat_minor": 0,
  "metadata": {
    "colab": {
      "provenance": [],
      "authorship_tag": "ABX9TyPNEbUr/lvFgk2QDqGIk805"
    },
    "kernelspec": {
      "name": "python3",
      "display_name": "Python 3"
    },
    "language_info": {
      "name": "python"
    }
  },
  "cells": [
    {
      "cell_type": "code",
      "source": [
        "import matplotlib.pyplot as plt\n",
        "import pandas as pd\n",
        "import seaborn as sns"
      ],
      "metadata": {
        "id": "XiQDt1NM09Tx"
      },
      "execution_count": null,
      "outputs": []
    },
    {
      "cell_type": "code",
      "source": [
        "#Mounting Google Drive\n",
        "\n",
        "from google.colab import drive\n",
        "drive.mount('/content/gdrive/')\n",
        "%cd /content/gdrive/My Drive/"
      ],
      "metadata": {
        "colab": {
          "base_uri": "https://localhost:8080/"
        },
        "id": "_j7D2MKB1K6i",
        "outputId": "b1a45efa-babb-4ef5-d2f4-ca1096568d1a"
      },
      "execution_count": null,
      "outputs": [
        {
          "output_type": "stream",
          "name": "stdout",
          "text": [
            "Mounted at /content/gdrive/\n",
            "/content/gdrive/My Drive\n"
          ]
        }
      ]
    },
    {
      "cell_type": "code",
      "source": [
        "data = pd.read_excel(\"R001.xls\", sheet_name = 1)"
      ],
      "metadata": {
        "id": "JO1ZVEXn0veC"
      },
      "execution_count": null,
      "outputs": []
    },
    {
      "cell_type": "code",
      "execution_count": null,
      "metadata": {
        "colab": {
          "base_uri": "https://localhost:8080/",
          "height": 279
        },
        "id": "4EgW5TPD0nph",
        "outputId": "58ebf9bf-c307-41ea-ad8b-696862ff49b4"
      },
      "outputs": [
        {
          "output_type": "display_data",
          "data": {
            "text/plain": [
              "<Figure size 432x288 with 1 Axes>"
            ],
            "image/png": "[encoded data removed]"
          },
          "metadata": {
            "needs_background": "light"
          }
        }
      ],
      "source": [
        "\n",
        "# Specify the column name and element to plot\n",
        "column_name = \"Discharge_Capacity(Ah)\"\n",
        "cycle_index = 60\n",
        "\n",
        "# Use a for loop to iterate through the dataframe\n",
        "x = []\n",
        "y = []\n",
        "for index, row in data.iterrows():\n",
        "    if row[\"Cycle_Index\"] == cycle_index:\n",
        "        x.append(row[\"Voltage(V)\"])\n",
        "        y.append(row[column_name])\n",
        "\n",
        "# Plot the data\n",
        "plt.plot(x, y)\n",
        "plt.xlabel(\"Voltage (V)\")\n",
        "plt.ylabel(column_name)\n",
        "#plt.title(index_no + \" \" + 'column_name')\n",
        "plt.show()"
      ]
    },
    {
      "cell_type": "code",
      "source": [
        "list(data.columns)"
      ],
      "metadata": {
        "colab": {
          "base_uri": "https://localhost:8080/"
        },
        "id": "vF1-tUsn3tAP",
        "outputId": "c7f721fd-58b7-498c-e7b1-d13a72a9ed65"
      },
      "execution_count": null,
      "outputs": [
        {
          "output_type": "execute_result",
          "data": {
            "text/plain": [
              "['Data_Point',\n",
              " 'Test_Time(s)',\n",
              " 'Date_Time',\n",
              " 'Step_Time(s)',\n",
              " 'Step_Index',\n",
              " 'Cycle_Index',\n",
              " 'Current(A)',\n",
              " 'Voltage(V)',\n",
              " 'Charge_Capacity(Ah)',\n",
              " 'Discharge_Capacity(Ah)',\n",
              " 'Charge_Energy(Wh)',\n",
              " 'Discharge_Energy(Wh)',\n",
              " 'dV/dt(V/s)',\n",
              " 'Internal_Resistance(Ohm)',\n",
              " 'Is_FC_Data',\n",
              " 'AC_Impedance(Ohm)',\n",
              " 'ACI_Phase_Angle(Deg)',\n",
              " 'Unnamed: 17',\n",
              " 'dQ/dV']"
            ]
          },
          "metadata": {},
          "execution_count": 36
        }
      ]
    },
    {
      "cell_type": "code",
      "source": [
        "#data = data.head(10)"
      ],
      "metadata": {
        "id": "3_n0KA_M5EQ4"
      },
      "execution_count": null,
      "outputs": []
    },
    {
      "cell_type": "markdown",
      "source": [
        "# Trial"
      ],
      "metadata": {
        "id": "wQF62zj7KhPS"
      }
    },
    {
      "cell_type": "code",
      "source": [
        "cycle = input()"
      ],
      "metadata": {
        "colab": {
          "base_uri": "https://localhost:8080/"
        },
        "id": "ipA-Cb6TN3A8",
        "outputId": "307e4369-d1ba-40dd-aa9b-e61e0b2ad7bf"
      },
      "execution_count": null,
      "outputs": [
        {
          "name": "stdout",
          "output_type": "stream",
          "text": [
            "1\n"
          ]
        }
      ]
    },
    {
      "cell_type": "code",
      "source": [
        "# Specify the cycle you want to plot\n",
        "cycle = int(cycle)\n",
        "DC = []\n",
        "CC = []\n",
        "V_1 = []\n",
        "V_2 = []\n",
        "# Filter the dataframe for the specified element\n",
        "filtered_data = data[data['Cycle_Index'] == cycle]\n",
        "\n",
        "# Use a for loop to iterate over the rows of the filtered data\n",
        "for index, row in filtered_data.iterrows():\n",
        "    # Use an if-else loop to check the value of another column\n",
        "    if row[\"Step_Index\"] == 2 or row[\"Step_Index\"] == 5:\n",
        "        DC.append(row[\"Discharge_Capacity(Ah)\"])\n",
        "        V_1.append(row[\"Voltage(V)\"])\n",
        "        # If the value is 2 or 5, use the first column for plotting\n",
        "\n",
        "\n",
        "    elif row[\"Step_Index\"] == 3 or row[\"Step_Index\"] == 6:\n",
        "        CC.append(row[\"Charge_Capacity(Ah)\"])\n",
        "        V_2.append(row[\"Voltage(V)\"])\n",
        "        # If the value is 3 or 6, use the second column for plotting\n",
        "\n",
        "\n",
        "plt.plot(DC, V_1, color = \"Red\", label = \"Discharge Capacity\")\n",
        "plt.plot(CC, V_2, color = \"Blue\", label= \"Charge Capacity\" )\n",
        "\n",
        "# Add a title and axis labels\n",
        "plt.title(\" Graph for Cycle {}\".format(cycle))\n",
        "plt.xlabel(\"Capacity\")\n",
        "plt.ylabel(\"Voltage (V)\")\n",
        "plt.legend()\n",
        "# Show the graph\n",
        "plt.show()\n"
      ],
      "metadata": {
        "colab": {
          "base_uri": "https://localhost:8080/",
          "height": 295
        },
        "id": "w-FmdPM0KEKu",
        "outputId": "79568417-e0c9-4a55-ff31-978b2894c16d"
      },
      "execution_count": null,
      "outputs": [
        {
          "output_type": "display_data",
          "data": {
            "text/plain": [
              "<Figure size 432x288 with 1 Axes>"
            ],
            "image/png": "[encoded data removed]"
          },
          "metadata": {
            "needs_background": "light"
          }
        }
      ]
    },
    {
      "cell_type": "code",
      "source": [
        "sns.lineplot(DC, V_1)\n",
        "sns.scatterplot(CC, V_2)"
      ],
      "metadata": {
        "colab": {
          "base_uri": "https://localhost:8080/",
          "height": 377
        },
        "id": "HOQFFiQuLlxa",
        "outputId": "3e607b0d-0693-401c-e508-1c3e3df2b7b1"
      },
      "execution_count": null,
      "outputs": [
        {
          "output_type": "stream",
          "name": "stderr",
          "text": [
            "/usr/local/lib/python3.8/dist-packages/seaborn/_decorators.py:36: FutureWarning: Pass the following variables as keyword args: x, y. From version 0.12, the only valid positional argument will be `data`, and passing other arguments without an explicit keyword will result in an error or misinterpretation.\n",
            "  warnings.warn(\n",
            "/usr/local/lib/python3.8/dist-packages/seaborn/_decorators.py:36: FutureWarning: Pass the following variables as keyword args: x, y. From version 0.12, the only valid positional argument will be `data`, and passing other arguments without an explicit keyword will result in an error or misinterpretation.\n",
            "  warnings.warn(\n"
          ]
        },
        {
          "output_type": "execute_result",
          "data": {
            "text/plain": [
              "<matplotlib.axes._subplots.AxesSubplot at 0x7f0a78dcd7f0>"
            ]
          },
          "metadata": {},
          "execution_count": 146
        },
        {
          "output_type": "display_data",
          "data": {
            "text/plain": [
              "<Figure size 432x288 with 1 Axes>"
            ],
            "image/png": "[encoded data removed]"
          },
          "metadata": {
            "needs_background": "light"
          }
        }
      ]
    },
    {
      "cell_type": "code",
      "source": [],
      "metadata": {
        "id": "2XMzYmWgO1oO"
      },
      "execution_count": null,
      "outputs": []
    }
  ]
}